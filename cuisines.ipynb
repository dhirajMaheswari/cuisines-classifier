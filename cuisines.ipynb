{
 "cells": [
  {
   "cell_type": "code",
   "execution_count": 1,
   "metadata": {},
   "outputs": [],
   "source": [
    "import pandas as pd\n",
    "import numpy as np \n",
    "import matplotlib.pyplot as plt \n"
   ]
  },
  {
   "cell_type": "code",
   "execution_count": 2,
   "metadata": {},
   "outputs": [],
   "source": [
    "df = pd.read_csv(\"cuisines.csv\")"
   ]
  },
  {
   "cell_type": "code",
   "execution_count": null,
   "metadata": {},
   "outputs": [],
   "source": [
    "print(df.describe())\n",
    "print('***')\n",
    "print(df.info())\n",
    "print('***')\n",
    "print(df.isnull().sum())\n",
    "print(df.isna().sum())"
   ]
  },
  {
   "cell_type": "code",
   "execution_count": 4,
   "metadata": {},
   "outputs": [
    {
     "data": {
      "text/plain": [
       "Index(['Unnamed: 0', 'cuisine', 'almond', 'angelica', 'anise', 'anise_seed',\n",
       "       'apple', 'apple_brandy', 'apricot', 'armagnac',\n",
       "       ...\n",
       "       'whiskey', 'white_bread', 'white_wine', 'whole_grain_wheat_flour',\n",
       "       'wine', 'wood', 'yam', 'yeast', 'yogurt', 'zucchini'],\n",
       "      dtype='object', length=385)"
      ]
     },
     "execution_count": 4,
     "metadata": {},
     "output_type": "execute_result"
    }
   ],
   "source": [
    "df.columns"
   ]
  },
  {
   "cell_type": "code",
   "execution_count": 5,
   "metadata": {},
   "outputs": [
    {
     "data": {
      "image/png": "[encoded data removed]",
      "text/plain": [
       "<Figure size 640x480 with 1 Axes>"
      ]
     },
     "metadata": {},
     "output_type": "display_data"
    }
   ],
   "source": [
    "df.cuisine.value_counts().plot.barh()\n",
    "plt.xlabel(\"count\")\n",
    "plt.ylabel(\"cuisines\")\n",
    "plt.show()"
   ]
  },
  {
   "cell_type": "code",
   "execution_count": 3,
   "metadata": {},
   "outputs": [],
   "source": [
    "ingredients = df.drop(['Unnamed: 0','cuisine'], axis=1)"
   ]
  },
  {
   "cell_type": "code",
   "execution_count": 4,
   "metadata": {},
   "outputs": [
    {
     "name": "stdout",
     "output_type": "stream",
     "text": [
      "Index(['almond', 'angelica', 'anise', 'anise_seed', 'apple', 'apple_brandy',\n",
      "       'apricot', 'armagnac', 'artemisia', 'artichoke',\n",
      "       ...\n",
      "       'whiskey', 'white_bread', 'white_wine', 'whole_grain_wheat_flour',\n",
      "       'wine', 'wood', 'yam', 'yeast', 'yogurt', 'zucchini'],\n",
      "      dtype='object', length=383)\n",
      "383\n"
     ]
    }
   ],
   "source": [
    "print(ingredients.columns)\n",
    "print(len(ingredients.columns))"
   ]
  },
  {
   "cell_type": "code",
   "execution_count": 8,
   "metadata": {},
   "outputs": [
    {
     "data": {
      "text/plain": [
       "173"
      ]
     },
     "execution_count": 8,
     "metadata": {},
     "output_type": "execute_result"
    }
   ],
   "source": [
    "df[df['cuisine']=='thai']['garlic'].sum()"
   ]
  },
  {
   "cell_type": "code",
   "execution_count": 5,
   "metadata": {},
   "outputs": [
    {
     "data": {
      "text/html": [
       "<div>\n",
       "<style scoped>\n",
       "    .dataframe tbody tr th:only-of-type {\n",
       "        vertical-align: middle;\n",
       "    }\n",
       "\n",
       "    .dataframe tbody tr th {\n",
       "        vertical-align: top;\n",
       "    }\n",
       "\n",
       "    .dataframe thead th {\n",
       "        text-align: right;\n",
       "    }\n",
       "</style>\n",
       "<table border=\"1\" class=\"dataframe\">\n",
       "  <thead>\n",
       "    <tr style=\"text-align: right;\">\n",
       "      <th></th>\n",
       "      <th>value</th>\n",
       "    </tr>\n",
       "  </thead>\n",
       "  <tbody>\n",
       "    <tr>\n",
       "      <th>almond</th>\n",
       "      <td>45</td>\n",
       "    </tr>\n",
       "    <tr>\n",
       "      <th>angelica</th>\n",
       "      <td>0</td>\n",
       "    </tr>\n",
       "    <tr>\n",
       "      <th>anise</th>\n",
       "      <td>1</td>\n",
       "    </tr>\n",
       "    <tr>\n",
       "      <th>anise_seed</th>\n",
       "      <td>7</td>\n",
       "    </tr>\n",
       "    <tr>\n",
       "      <th>apple</th>\n",
       "      <td>34</td>\n",
       "    </tr>\n",
       "  </tbody>\n",
       "</table>\n",
       "</div>"
      ],
      "text/plain": [
       "            value\n",
       "almond         45\n",
       "angelica        0\n",
       "anise           1\n",
       "anise_seed      7\n",
       "apple          34"
      ]
     },
     "execution_count": 5,
     "metadata": {},
     "output_type": "execute_result"
    }
   ],
   "source": [
    "ingredients.sum(axis=0).to_frame('value').head()"
   ]
  },
  {
   "cell_type": "code",
   "execution_count": 6,
   "metadata": {},
   "outputs": [],
   "source": [
    "# transpose the dataframe, and sum across each rows (axis = 1)\n",
    "# check cell just above, it does the same thing\n",
    "ingredients_df = ingredients.T.sum(axis=1).to_frame('value') # create a dataframe with total occurence of each ingredient."
   ]
  },
  {
   "cell_type": "code",
   "execution_count": 7,
   "metadata": {},
   "outputs": [
    {
     "data": {
      "text/html": [
       "<div>\n",
       "<style scoped>\n",
       "    .dataframe tbody tr th:only-of-type {\n",
       "        vertical-align: middle;\n",
       "    }\n",
       "\n",
       "    .dataframe tbody tr th {\n",
       "        vertical-align: top;\n",
       "    }\n",
       "\n",
       "    .dataframe thead th {\n",
       "        text-align: right;\n",
       "    }\n",
       "</style>\n",
       "<table border=\"1\" class=\"dataframe\">\n",
       "  <thead>\n",
       "    <tr style=\"text-align: right;\">\n",
       "      <th></th>\n",
       "      <th>value</th>\n",
       "    </tr>\n",
       "  </thead>\n",
       "  <tbody>\n",
       "    <tr>\n",
       "      <th>almond</th>\n",
       "      <td>45</td>\n",
       "    </tr>\n",
       "    <tr>\n",
       "      <th>angelica</th>\n",
       "      <td>0</td>\n",
       "    </tr>\n",
       "    <tr>\n",
       "      <th>anise</th>\n",
       "      <td>1</td>\n",
       "    </tr>\n",
       "    <tr>\n",
       "      <th>anise_seed</th>\n",
       "      <td>7</td>\n",
       "    </tr>\n",
       "    <tr>\n",
       "      <th>apple</th>\n",
       "      <td>34</td>\n",
       "    </tr>\n",
       "  </tbody>\n",
       "</table>\n",
       "</div>"
      ],
      "text/plain": [
       "            value\n",
       "almond         45\n",
       "angelica        0\n",
       "anise           1\n",
       "anise_seed      7\n",
       "apple          34"
      ]
     },
     "execution_count": 7,
     "metadata": {},
     "output_type": "execute_result"
    }
   ],
   "source": [
    "ingredients_df.head(5)"
   ]
  },
  {
   "cell_type": "code",
   "execution_count": 18,
   "metadata": {},
   "outputs": [
    {
     "data": {
      "image/png": "[encoded data removed]",
      "text/plain": [
       "<Figure size 640x480 with 1 Axes>"
      ]
     },
     "metadata": {},
     "output_type": "display_data"
    }
   ],
   "source": [
    "ingredients_df['value'].sort_values(ascending=False).head(20).plot(kind='barh')\n",
    "plt.show()"
   ]
  },
  {
   "cell_type": "code",
   "execution_count": 19,
   "metadata": {},
   "outputs": [],
   "source": [
    "#function to give ingredients and their counts in particular cuisine of choice\n",
    "\n",
    "def ingredients_df(df,c='indian'):\n",
    "    subdf = df[df['cuisine']==c]\n",
    "    ingredients_df = subdf.drop(['Unnamed: 0','cuisine'], axis = 1)\n",
    "    ingredients_df = ingredients_df.T.sum(axis=1).to_frame('value')\n",
    "    ingredients_df = ingredients_df.sort_values(by='value', ascending=False,inplace=False)\n",
    "    return ingredients_df\n"
   ]
  },
  {
   "cell_type": "code",
   "execution_count": 23,
   "metadata": {},
   "outputs": [
    {
     "data": {
      "image/png": "[encoded data removed]",
      "text/plain": [
       "<Figure size 640x480 with 1 Axes>"
      ]
     },
     "metadata": {},
     "output_type": "display_data"
    }
   ],
   "source": [
    "ingredients_df(df,'indian').head(12).plot(kind='barh')\n",
    "plt.xlabel('count')\n",
    "plt.ylabel('ingredients')\n",
    "plt.title('Count of Ingredients')\n",
    "plt.show()"
   ]
  },
  {
   "cell_type": "code",
   "execution_count": 24,
   "metadata": {},
   "outputs": [],
   "source": [
    "from sklearn.linear_model import LogisticRegression\n",
    "from sklearn.model_selection import train_test_split, cross_val_score\n",
    "from sklearn.metrics import accuracy_score,precision_score,confusion_matrix,classification_report\n",
    "from sklearn.metrics import roc_curve, roc_auc_score\n",
    "from sklearn.svm import SVC"
   ]
  },
  {
   "cell_type": "code",
   "execution_count": 25,
   "metadata": {},
   "outputs": [
    {
     "name": "stdout",
     "output_type": "stream",
     "text": [
      "(2448, 383) (2448,)\n",
      "   almond  angelica  anise  anise_seed  apple  apple_brandy  apricot  \\\n",
      "0       0         0      0           0      0             0        0   \n",
      "1       1         0      0           0      0             0        0   \n",
      "2       0         0      0           0      0             0        0   \n",
      "\n",
      "   armagnac  artemisia  artichoke  ...  whiskey  white_bread  white_wine  \\\n",
      "0         0          0          0  ...        0            0           0   \n",
      "1         0          0          0  ...        0            0           0   \n",
      "2         0          0          0  ...        0            0           0   \n",
      "\n",
      "   whole_grain_wheat_flour  wine  wood  yam  yeast  yogurt  zucchini  \n",
      "0                        0     0     0    0      0       0         0  \n",
      "1                        0     0     0    0      0       0         0  \n",
      "2                        0     0     0    0      0       0         0  \n",
      "\n",
      "[3 rows x 383 columns] 0    indian\n",
      "1    indian\n",
      "2    indian\n",
      "Name: cuisine, dtype: object\n"
     ]
    }
   ],
   "source": [
    "X = df.drop(['Unnamed: 0', 'cuisine'], axis=1)\n",
    "y = df['cuisine']\n",
    "print(X.shape, y.shape)\n",
    "print(X[:3], y[:3])"
   ]
  },
  {
   "cell_type": "code",
   "execution_count": 26,
   "metadata": {},
   "outputs": [],
   "source": [
    "X_train, X_test, y_train, y_test = train_test_split(X, y, test_size=0.2)"
   ]
  },
  {
   "cell_type": "code",
   "execution_count": null,
   "metadata": {},
   "outputs": [],
   "source": []
  },
  {
   "cell_type": "code",
   "execution_count": 49,
   "metadata": {},
   "outputs": [
    {
     "name": "stdout",
     "output_type": "stream",
     "text": [
      "Accuracy on train: 0.88\n",
      "Accuracy on test:0.81 \n"
     ]
    }
   ],
   "source": [
    "lr_classifier = LogisticRegression()\n",
    "lr_classifier.fit(X_train.values,y_train.values)\n",
    "\n",
    "predictions = lr_classifier.predict(X_test.values)\n",
    "print(f\"Accuracy on train: {lr_classifier.score(X_train.values, y_train.values):.2f}\\nAccuracy on test:{lr_classifier.score(X_test.values, y_test.values):.2f} \")"
   ]
  },
  {
   "cell_type": "code",
   "execution_count": 36,
   "metadata": {},
   "outputs": [
    {
     "name": "stdout",
     "output_type": "stream",
     "text": [
      "Index(['black_pepper', 'carrot', 'cayenne', 'chicken', 'coriander',\n",
      "       'grape_juice', 'green_bell_pepper', 'lemon_juice', 'lettuce',\n",
      "       'olive_oil', 'onion', 'oregano', 'radish', 'tabasco_pepper', 'tomato'],\n",
      "      dtype='object')\n",
      "indian\n"
     ]
    }
   ],
   "source": [
    "print(X_test.iloc[5][X_test.iloc[5]!=0].keys())\n",
    "print(y_test.iloc[5])"
   ]
  },
  {
   "cell_type": "code",
   "execution_count": 72,
   "metadata": {},
   "outputs": [
    {
     "name": "stdout",
     "output_type": "stream",
     "text": [
      "['korean']\n"
     ]
    }
   ],
   "source": [
    "print(lr_classifier.predict(np.array(X_test.iloc[1]).reshape(1,-1)))\n",
    "cuisines_prob = lr_classifier.predict_proba(np.array(X_test.iloc[1]).reshape(1,-1))\n"
   ]
  },
  {
   "cell_type": "code",
   "execution_count": 73,
   "metadata": {},
   "outputs": [
    {
     "name": "stdout",
     "output_type": "stream",
     "text": [
      "chinese --> 36.59 %\n",
      "indian --> 3.41 %\n",
      "japanese --> 6.58 %\n",
      "korean --> 51.64 %\n",
      "thai --> 1.78 %\n"
     ]
    }
   ],
   "source": [
    "classes = lr_classifier.classes_\n",
    "# print(classes)\n",
    "for i,c in enumerate(classes):\n",
    "    print(c, \"-->\",round(cuisines_prob[0][i]*100,2),\"%\")"
   ]
  },
  {
   "cell_type": "code",
   "execution_count": 82,
   "metadata": {},
   "outputs": [
    {
     "name": "stdout",
     "output_type": "stream",
     "text": [
      "The prediction with probabilites for various cuisines:\n",
      "                 0\n",
      "korean    0.516393\n",
      "chinese   0.365923\n",
      "japanese  0.065824\n",
      "indian    0.034104\n",
      "thai      0.017756\n"
     ]
    }
   ],
   "source": [
    "# alternate way will be to create a dataframe with classes and probabilities\n",
    "\n",
    "res_df = pd.DataFrame(data=cuisines_prob,columns=classes)\n",
    "# print(res_df)\n",
    "print(\"The prediction with probabilites for various cuisines:\")\n",
    "print(res_df.T.sort_values(by=[0],ascending=False))"
   ]
  },
  {
   "cell_type": "code",
   "execution_count": 85,
   "metadata": {},
   "outputs": [
    {
     "name": "stdout",
     "output_type": "stream",
     "text": [
      "Classification report:\n",
      "              precision    recall  f1-score   support\n",
      "\n",
      "     chinese       0.67      0.61      0.64        90\n",
      "      indian       0.94      0.96      0.95       122\n",
      "    japanese       0.66      0.62      0.64        61\n",
      "      korean       0.84      0.91      0.88       154\n",
      "        thai       0.80      0.76      0.78        63\n",
      "\n",
      "    accuracy                           0.81       490\n",
      "   macro avg       0.78      0.77      0.78       490\n",
      "weighted avg       0.81      0.81      0.81       490\n",
      "\n"
     ]
    }
   ],
   "source": [
    "print(\"Classification report:\")\n",
    "print(classification_report(y_true=y_test, y_pred=predictions))"
   ]
  }
 ],
 "metadata": {
  "kernelspec": {
   "display_name": "base",
   "language": "python",
   "name": "python3"
  },
  "language_info": {
   "codemirror_mode": {
    "name": "ipython",
    "version": 3
   },
   "file_extension": ".py",
   "mimetype": "text/x-python",
   "name": "python",
   "nbconvert_exporter": "python",
   "pygments_lexer": "ipython3",
   "version": "3.11.3"
  }
 },
 "nbformat": 4,
 "nbformat_minor": 2
}
